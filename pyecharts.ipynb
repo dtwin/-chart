{
 "cells": [
  {
   "cell_type": "code",
   "execution_count": 4,
   "metadata": {},
   "outputs": [],
   "source": [
    "from pyecharts import options as opts\n",
    "from pyecharts.charts import PictorialBar\n",
    "from pyecharts.globals import SymbolType\n",
    "\n",
    "location = [\"山西\", \"四川\", \"西藏\", \"北京\", \"上海\", \"内蒙古\", \"云南\", \"黑龙江\", \"广东\", \"福建\"]\n",
    "values = [13, 42, 67, 81, 86, 94, 166, 220, 249, 262]\n",
    "\n",
    "c = (\n",
    "    PictorialBar()\n",
    "    .add_xaxis(location)\n",
    "    .add_yaxis(\n",
    "        \"\",\n",
    "        values,\n",
    "        label_opts=opts.LabelOpts(is_show=False),\n",
    "        symbol_size=18,\n",
    "        symbol_repeat=\"fixed\",\n",
    "        symbol_offset=[0, 0],\n",
    "        is_symbol_clip=True,\n",
    "        symbol=SymbolType.ROUND_RECT,\n",
    "    )\n",
    "    .reversal_axis()\n",
    "    .set_global_opts(\n",
    "        title_opts=opts.TitleOpts(title=\"PictorialBar-各省份人口数量（虚假数据）\"),\n",
    "        xaxis_opts=opts.AxisOpts(is_show=False),\n",
    "        yaxis_opts=opts.AxisOpts(\n",
    "            axistick_opts=opts.AxisTickOpts(is_show=False),\n",
    "            axisline_opts=opts.AxisLineOpts(\n",
    "                linestyle_opts=opts.LineStyleOpts(opacity=0)\n",
    "            ),\n",
    "        ),\n",
    "    )\n",
    "    .render(\"pictorialbar_base.html\")\n",
    ")"
   ]
  },
  {
   "cell_type": "code",
   "execution_count": 3,
   "metadata": {},
   "outputs": [
    {
     "ename": "ModuleNotFoundError",
     "evalue": "No module named 'pyecharts'",
     "output_type": "error",
     "traceback": [
      "\u001b[1;31m---------------------------------------------------------------------------\u001b[0m",
      "\u001b[1;31mModuleNotFoundError\u001b[0m                       Traceback (most recent call last)",
      "\u001b[1;32m<ipython-input-3-ae687db0aafc>\u001b[0m in \u001b[0;36m<module>\u001b[1;34m\u001b[0m\n\u001b[1;32m----> 1\u001b[1;33m \u001b[1;32mimport\u001b[0m \u001b[0mpyecharts\u001b[0m\u001b[1;33m\u001b[0m\u001b[1;33m\u001b[0m\u001b[0m\n\u001b[0m",
      "\u001b[1;31mModuleNotFoundError\u001b[0m: No module named 'pyecharts'"
     ]
    }
   ],
   "source": [
    "import pyecharts\n"
   ]
  },
  {
   "cell_type": "code",
   "execution_count": null,
   "metadata": {},
   "outputs": [],
   "source": []
  }
 ],
 "metadata": {
  "kernelspec": {
   "display_name": "Python 3",
   "language": "python",
   "name": "python3"
  },
  "language_info": {
   "codemirror_mode": {
    "name": "ipython",
    "version": 3
   },
   "file_extension": ".py",
   "mimetype": "text/x-python",
   "name": "python",
   "nbconvert_exporter": "python",
   "pygments_lexer": "ipython3",
   "version": "3.7.3"
  }
 },
 "nbformat": 4,
 "nbformat_minor": 2
}
